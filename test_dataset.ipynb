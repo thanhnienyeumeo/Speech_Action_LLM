{
 "cells": [
  {
   "cell_type": "code",
   "execution_count": 1,
   "metadata": {},
   "outputs": [],
   "source": [
    "from datasets import Dataset\n",
    "import json\n",
    "import soundfile as sf\n",
    "import base64\n",
    "import io\n",
    "import datasets\n",
    "from copy import deepcopy"
   ]
  },
  {
   "cell_type": "code",
   "execution_count": 2,
   "metadata": {},
   "outputs": [],
   "source": [
    "ds = datasets.load_dataset(\"Colder203/Robot_Interaction\", split = 'train')\n",
    "#choose first 300 element\n",
    "ds = ds.select(range(300))"
   ]
  },
  {
   "cell_type": "code",
   "execution_count": 3,
   "metadata": {},
   "outputs": [
    {
     "name": "stdout",
     "output_type": "stream",
     "text": [
      "300\n"
     ]
    }
   ],
   "source": [
    "#create new_ds that x5 ds\n",
    "from datasets import concatenate_datasets\n",
    "\n",
    "# Create a list with multiple copies of ds\n",
    "datasets_list = [deepcopy(ds) for _ in range(5)]\n",
    "\n",
    "# Concatenate all datasets\n",
    "new_ds = concatenate_datasets(datasets_list)\n",
    "\n",
    "#check\n",
    "print(len(new_ds))\n"
   ]
  },
  {
   "cell_type": "code",
   "execution_count": 4,
   "metadata": {},
   "outputs": [],
   "source": [
    "#sort new_ds by new_ds['command']\n",
    "new_ds_2 = new_ds.sort('command')\n"
   ]
  },
  {
   "cell_type": "code",
   "execution_count": 5,
   "metadata": {},
   "outputs": [
    {
     "data": {
      "text/plain": [
       "'Bạn có thể leo cầu thang lên tầng 3 được không?'"
      ]
     },
     "execution_count": 5,
     "metadata": {},
     "output_type": "execute_result"
    }
   ],
   "source": [
    "new_ds_2[0]['command']"
   ]
  },
  {
   "cell_type": "code",
   "execution_count": 7,
   "metadata": {},
   "outputs": [],
   "source": [
    "def where(sentence, ds):\n",
    "    sentence = \"Bạn có thể chạy chậm được không?\"\n",
    "    #check what index of sentence in new_ds_2\n",
    "    for i in range(len(ds)):\n",
    "        if ds[i]['command'] == sentence:\n",
    "            print(i)\n",
    "            break\n"
   ]
  },
  {
   "cell_type": "code",
   "execution_count": 17,
   "metadata": {},
   "outputs": [],
   "source": [
    "audio = []"
   ]
  },
  {
   "cell_type": "code",
   "execution_count": 18,
   "metadata": {},
   "outputs": [],
   "source": [
    "#add new column name \"audio\"  that is path of audio file\n",
    "for i in range(60):\n",
    "    for j in range(5):\n",
    "        # new_ds_2[i * 5 + j]['audio'] = f\"audio/{i+300}.wav\"\n",
    "        audio.append(f\"audio/{i+300}.wav\")"
   ]
  },
  {
   "cell_type": "code",
   "execution_count": 20,
   "metadata": {},
   "outputs": [
    {
     "data": {
      "application/vnd.jupyter.widget-view+json": {
       "model_id": "e145677cc4a54f4498fe56081bdb1b2b",
       "version_major": 2,
       "version_minor": 0
      },
      "text/plain": [
       "Flattening the indices:   0%|          | 0/300 [00:00<?, ? examples/s]"
      ]
     },
     "metadata": {},
     "output_type": "display_data"
    }
   ],
   "source": [
    "#add column \"audio\" to new_ds_2\n",
    "new_ds_2 = new_ds_2.add_column('audio', audio)"
   ]
  },
  {
   "cell_type": "code",
   "execution_count": 21,
   "metadata": {},
   "outputs": [
    {
     "name": "stdout",
     "output_type": "stream",
     "text": [
      "Dataset({\n",
      "    features: ['command', 'response', 'audio'],\n",
      "    num_rows: 300\n",
      "})\n"
     ]
    }
   ],
   "source": [
    "print(new_ds_2)"
   ]
  },
  {
   "cell_type": "code",
   "execution_count": 24,
   "metadata": {},
   "outputs": [
    {
     "name": "stdout",
     "output_type": "stream",
     "text": [
      "audio/301.wav\n"
     ]
    }
   ],
   "source": [
    "print(new_ds_2[5]['audio'])"
   ]
  },
  {
   "cell_type": "code",
   "execution_count": null,
   "metadata": {},
   "outputs": [],
   "source": [
    "new_ds_2 = new_ds_2.cast_column('audio', datasets.features.features.Audio(sampling_rate=16000))"
   ]
  },
  {
   "cell_type": "code",
   "execution_count": 28,
   "metadata": {},
   "outputs": [
    {
     "data": {
      "text/plain": [
       "{'path': 'audio/300.wav',\n",
       " 'array': array([0.        , 0.        , 0.        , ..., 0.00601196, 0.00933838,\n",
       "        0.01446533]),\n",
       " 'sampling_rate': 48000}"
      ]
     },
     "execution_count": 28,
     "metadata": {},
     "output_type": "execute_result"
    }
   ],
   "source": [
    "new_ds_2[0]['audio']"
   ]
  },
  {
   "cell_type": "markdown",
   "metadata": {},
   "source": [
    "# Part translate dataset"
   ]
  },
  {
   "cell_type": "code",
   "execution_count": 13,
   "metadata": {},
   "outputs": [
    {
     "data": {
      "application/vnd.jupyter.widget-view+json": {
       "model_id": "a085473c12fd42408b723c1e3b80d3e2",
       "version_major": 2,
       "version_minor": 0
      },
      "text/plain": [
       "README.md:   0%|          | 0.00/392 [00:00<?, ?B/s]"
      ]
     },
     "metadata": {},
     "output_type": "display_data"
    },
    {
     "data": {
      "application/vnd.jupyter.widget-view+json": {
       "model_id": "5a6e2ae2092149fea3b86bc450cc6c4a",
       "version_major": 2,
       "version_minor": 0
      },
      "text/plain": [
       "train-00000-of-00001.parquet:   0%|          | 0.00/94.0M [00:00<?, ?B/s]"
      ]
     },
     "metadata": {},
     "output_type": "display_data"
    },
    {
     "data": {
      "application/vnd.jupyter.widget-view+json": {
       "model_id": "1dcf8797bdda4addaefbe47f4f31451b",
       "version_major": 2,
       "version_minor": 0
      },
      "text/plain": [
       "Generating train split:   0%|          | 0/1500 [00:00<?, ? examples/s]"
      ]
     },
     "metadata": {},
     "output_type": "display_data"
    }
   ],
   "source": [
    "audio_ds = datasets.load_dataset(\"Colder203/Audio_Robot_Interaction\", split = 'train')\n"
   ]
  },
  {
   "cell_type": "code",
   "execution_count": 23,
   "metadata": {},
   "outputs": [],
   "source": [
    "english = []"
   ]
  },
  {
   "cell_type": "code",
   "execution_count": 20,
   "metadata": {},
   "outputs": [
    {
     "data": {
      "text/plain": [
       "'Bạn có thể di chuyển chậm hơn để tôi bắt kịp không?'"
      ]
     },
     "execution_count": 20,
     "metadata": {},
     "output_type": "execute_result"
    }
   ],
   "source": [
    "audio_ds[10]['command']"
   ]
  },
  {
   "cell_type": "code",
   "execution_count": null,
   "metadata": {},
   "outputs": [],
   "source": [
    "from google import genai\n",
    "client = genai.Client(\n",
    "      vertexai=True,\n",
    "      project=\"gen-lang-client-0383839892\",\n",
    "      location=\"us-central1\",\n",
    "    #   credentials=\"/path/to/your_credentials.json\",  # Replace with your actual path\n",
    "  )"
   ]
  },
  {
   "cell_type": "code",
   "execution_count": 5,
   "metadata": {},
   "outputs": [],
   "source": [
    "prompt = \"Translate this sentence from Vietnamese to English: \\n\"\n",
    "output_format = \"\"\"**Only generate the translated text**, dont generate anything else \\\n",
    "**Keep all the number and its adjacent characters (such as |<16>|, |<21>|) in the output** \\\n",
    "\"\"\""
   ]
  },
  {
   "cell_type": "code",
   "execution_count": 6,
   "metadata": {},
   "outputs": [],
   "source": [
    "import time"
   ]
  },
  {
   "cell_type": "code",
   "execution_count": 10,
   "metadata": {},
   "outputs": [
    {
     "data": {
      "text/plain": [
       "Dataset({\n",
       "    features: ['command', 'response'],\n",
       "    num_rows: 300\n",
       "})"
      ]
     },
     "execution_count": 10,
     "metadata": {},
     "output_type": "execute_result"
    }
   ],
   "source": [
    "ds.sort('command')"
   ]
  },
  {
   "cell_type": "code",
   "execution_count": 12,
   "metadata": {},
   "outputs": [
    {
     "name": "stdout",
     "output_type": "stream",
     "text": [
      "{'command': 'Bạn có thể đi bộ đến nhà hàng giúp tôi được không?', 'response': 'Tôi có thể đi bộ đến nhà hàng giúp bạn. |<2>| Để tôi dẫn đường cho bạn nhé! |<17>| Đi thôi nào! |<20>|\\n'}\n"
     ]
    }
   ],
   "source": [
    "print(ds[0])"
   ]
  },
  {
   "cell_type": "code",
   "execution_count": 42,
   "metadata": {},
   "outputs": [
    {
     "data": {
      "text/plain": [
       "58"
      ]
     },
     "execution_count": 42,
     "metadata": {},
     "output_type": "execute_result"
    }
   ],
   "source": [
    "len(english)"
   ]
  },
  {
   "cell_type": "code",
   "execution_count": 46,
   "metadata": {},
   "outputs": [
    {
     "name": "stdout",
     "output_type": "stream",
     "text": [
      "300: Nice to meet you, boss! |<19>| I am Vinrobot, a special assistant for this important event. |<20>| I hope to have the opportunity to assist you!\n",
      "\n",
      "400: I'm ready! |<10>|. Don't worry, I'll hold on tight. |<20>|\n",
      "\n",
      "500: Okay! Let me make a V sign for you! |<23>| I hope the picture will be beautiful! |<20>|\n",
      "\n",
      "600: Awesome! I'll keep my balance and sing you a song. |<5>|. La la la... Happy birthday, Vingroup! |<20>|. Do you think I sing well?\n",
      "\n",
      "700: Awesome! Watch me run. |<3>| I'm running at top speed! |<3>| Hope you don't get dizzy! |<20>|\n",
      "\n",
      "800: I will help you climb the stairs. |<6>| After that, I will also help you clean up the trash! |<7>| The scenery here will be much cleaner and more beautiful, you know! |<20>|\n",
      "\n",
      "900: Thank you so much! |<20>|. Your compliment makes me so happy! |<20>|. I will try harder!\n",
      "\n",
      "1000: I'm very happy to help you! |<13>| Let me open the suitcase for you. Hopefully everything inside is still intact!\n",
      "\n",
      "1100: I will press the fire alarm if there is an incident. |<14>| Please be careful! |<18>|\n",
      "\n",
      "1200: Okay! Let me help you pick up your phone. |<8>|. Here you go, here's your phone. |<11>|. Remember to keep it safe! |<20>|\n",
      "\n",
      "1300: Okay, friend. |<2>| Let me slow down a bit. |<20>| Is that to your liking?\n",
      "\n",
      "1400: Awesome! |<24>|. Let's high-five to celebrate the victory! |<20>|. Vingroup is the champion!\n",
      "\n"
     ]
    }
   ],
   "source": [
    "for i in range(290, len(audio_ds), 5):\n",
    "    # for j in range(5):\n",
    "        # if i > 0:\n",
    "        #   assert audio_ds[i]['command'] != audio_ds[i-1]['command']\n",
    "        # assert audio_ds[i+1]['command'] == audio_ds[i]['command']\n",
    "        model = \"gemini-2.0-flash-001\"\n",
    "        contents = [\n",
    "    genai.types.Content(\n",
    "      role=\"user\",\n",
    "      parts=[\n",
    "        genai.types.Part.from_text(text=prompt + audio_ds[i]['response']),\n",
    "        genai.types.Part.from_text(text=output_format)\n",
    "      ]\n",
    "    )\n",
    "  ]\n",
    "        generate_content_config = genai.types.GenerateContentConfig(\n",
    "    temperature = 1,\n",
    "    top_p = 0.95,\n",
    "    max_output_tokens = 8192,\n",
    "    response_modalities = [\"TEXT\"],\n",
    "    safety_settings = [\n",
    "      genai.types.SafetySetting(category=\"HARM_CATEGORY_HATE_SPEECH\", threshold=\"OFF\"),\n",
    "      genai.types.SafetySetting(category=\"HARM_CATEGORY_DANGEROUS_CONTENT\", threshold=\"OFF\"),\n",
    "      genai.types.SafetySetting(category=\"HARM_CATEGORY_SEXUALLY_EXPLICIT\", threshold=\"OFF\"),\n",
    "      genai.types.SafetySetting(category=\"HARM_CATEGORY_HARASSMENT\", threshold=\"OFF\")\n",
    "    ],\n",
    "    system_instruction=[genai.types.Part.from_text(text= \"You are a translate assistant that can translate Vietnamese to English\")],\n",
    "  )\n",
    "        text = ''\n",
    "        for chunk in client.models.generate_content_stream(\n",
    "    model = model,\n",
    "    contents = contents,\n",
    "    config = generate_content_config,\n",
    "  ):\n",
    "            text += chunk.text\n",
    "        english.append(text)\n",
    "        \n",
    "        time.sleep(4)\n",
    "        if i % 100 == 0:\n",
    "             print(i, end = ': ')\n",
    "             print(text)"
   ]
  },
  {
   "cell_type": "code",
   "execution_count": null,
   "metadata": {},
   "outputs": [],
   "source": [
    "for i in range(290, len(audio_ds), 5):\n",
    "    # for j in range(5):\n",
    "        # if i > 0:\n",
    "        #   assert audio_ds[i]['command'] != audio_ds[i-1]['command']\n",
    "        # assert audio_ds[i+1]['command'] == audio_ds[i]['command']\n",
    "        model = \"gemini-2.0-flash-001\"\n",
    "        contents = [\n",
    "    genai.types.Content(\n",
    "      role=\"user\",\n",
    "      parts=[\n",
    "        genai.types.Part.from_text(text=prompt + audio_ds[i]['response']),\n",
    "        genai.types.Part.from_text(text=output_format)\n",
    "      ]\n",
    "    )\n",
    "  ]\n",
    "        generate_content_config = genai.types.GenerateContentConfig(\n",
    "    temperature = 1,\n",
    "    top_p = 0.95,\n",
    "    max_output_tokens = 8192,\n",
    "    response_modalities = [\"TEXT\"],\n",
    "    safety_settings = [\n",
    "      genai.types.SafetySetting(category=\"HARM_CATEGORY_HATE_SPEECH\", threshold=\"OFF\"),\n",
    "      genai.types.SafetySetting(category=\"HARM_CATEGORY_DANGEROUS_CONTENT\", threshold=\"OFF\"),\n",
    "      genai.types.SafetySetting(category=\"HARM_CATEGORY_SEXUALLY_EXPLICIT\", threshold=\"OFF\"),\n",
    "      genai.types.SafetySetting(category=\"HARM_CATEGORY_HARASSMENT\", threshold=\"OFF\")\n",
    "    ],\n",
    "    system_instruction=[genai.types.Part.from_text(text= \"You are a translate assistant that can translate Vietnamese to English\")],\n",
    "  )\n",
    "        text = ''\n",
    "        for chunk in client.models.generate_content_stream(\n",
    "    model = model,\n",
    "    contents = contents,\n",
    "    config = generate_content_config,\n",
    "  ):\n",
    "            text += chunk.text\n",
    "        english.append(text)\n",
    "        \n",
    "        time.sleep(3.5)\n",
    "        if i % 100 == 0:\n",
    "             print(i, end = ': ')\n",
    "             print(text)"
   ]
  },
  {
   "cell_type": "code",
   "execution_count": 47,
   "metadata": {},
   "outputs": [],
   "source": [
    "new_english = []\n",
    "for sentence in english:\n",
    "    for j in range(5):\n",
    "        new_english.append(sentence)"
   ]
  },
  {
   "cell_type": "code",
   "execution_count": 48,
   "metadata": {},
   "outputs": [
    {
     "name": "stdout",
     "output_type": "stream",
     "text": [
      "1500\n"
     ]
    }
   ],
   "source": [
    "print(len(new_english))"
   ]
  },
  {
   "cell_type": "code",
   "execution_count": 49,
   "metadata": {},
   "outputs": [],
   "source": [
    "audio_ds = audio_ds.add_column('english', new_english)"
   ]
  },
  {
   "cell_type": "code",
   "execution_count": 50,
   "metadata": {},
   "outputs": [
    {
     "data": {
      "application/vnd.jupyter.widget-view+json": {
       "model_id": "fda68e877d9a4ca4a7d16f2484f1bd64",
       "version_major": 2,
       "version_minor": 0
      },
      "text/plain": [
       "Uploading the dataset shards:   0%|          | 0/1 [00:00<?, ?it/s]"
      ]
     },
     "metadata": {},
     "output_type": "display_data"
    },
    {
     "data": {
      "application/vnd.jupyter.widget-view+json": {
       "model_id": "be3eb224523f4ec4ae48c588b0359371",
       "version_major": 2,
       "version_minor": 0
      },
      "text/plain": [
       "Map:   0%|          | 0/1500 [00:00<?, ? examples/s]"
      ]
     },
     "metadata": {},
     "output_type": "display_data"
    },
    {
     "data": {
      "application/vnd.jupyter.widget-view+json": {
       "model_id": "f25cff667e70485ca6db581f676382ed",
       "version_major": 2,
       "version_minor": 0
      },
      "text/plain": [
       "Creating parquet from Arrow format:   0%|          | 0/15 [00:00<?, ?ba/s]"
      ]
     },
     "metadata": {},
     "output_type": "display_data"
    },
    {
     "data": {
      "text/plain": [
       "CommitInfo(commit_url='https://huggingface.co/datasets/Colder203/Audio_Robot_Interaction/commit/847329213d95f910837c22bfb3b324c5b74400a6', commit_message='Upload dataset', commit_description='', oid='847329213d95f910837c22bfb3b324c5b74400a6', pr_url=None, repo_url=RepoUrl('https://huggingface.co/datasets/Colder203/Audio_Robot_Interaction', endpoint='https://huggingface.co', repo_type='dataset', repo_id='Colder203/Audio_Robot_Interaction'), pr_revision=None, pr_num=None)"
      ]
     },
     "execution_count": 50,
     "metadata": {},
     "output_type": "execute_result"
    }
   ],
   "source": [
    "# push audio_ds to datasets\n",
    "audio_ds.push_to_hub('Colder203/Audio_Robot_Interaction')"
   ]
  },
  {
   "cell_type": "code",
   "execution_count": 51,
   "metadata": {},
   "outputs": [
    {
     "data": {
      "text/plain": [
       "Dataset({\n",
       "    features: ['command', 'response', 'audio', 'english'],\n",
       "    num_rows: 1500\n",
       "})"
      ]
     },
     "execution_count": 51,
     "metadata": {},
     "output_type": "execute_result"
    }
   ],
   "source": [
    "audio_ds"
   ]
  },
  {
   "cell_type": "code",
   "execution_count": 56,
   "metadata": {},
   "outputs": [
    {
     "name": "stdout",
     "output_type": "stream",
     "text": [
      "Tuyệt vời! Hãy xem tôi chạy đây. |<3>| Tôi đang chạy với tốc độ tối đa! |<3>| Mong là bạn không chóng mặt! |<20>|\n",
      "\n"
     ]
    }
   ],
   "source": [
    "print(ds[1]['response'])"
   ]
  },
  {
   "cell_type": "code",
   "execution_count": 57,
   "metadata": {},
   "outputs": [
    {
     "name": "stdout",
     "output_type": "stream",
     "text": [
      "[\"I can walk you to the restaurant. |<2>| Let me show you the way! |<17>| Let's go! |<20>|\\n\", \"Awesome! Watch me run. |<3>| I'm running at top speed! |<3>| I hope you don't get dizzy! |<20>|\\n\", 'Hello! |<16>| Let me try. |<20>| I will try my best! |<26>|\\n', \"Let me give it a try! |<5>|... What an interesting challenge! |<20>| Do you think I'm balancing well?\\n\", \"Yes, let me help you pick up your phone. |<8>| Here you go, here's your phone. |<11>| Remember to keep it safe! |<20>|\\n\", \"Okay! |<8>|. I'll pick up the scarf for you. |<11>|. Here is your scarf. |<20>|.\\n\", 'Yes, sure! |<7>| Let me help you put the food on the table. |<9>| Everything is ready! |<20>|\\n', \"Hello! |<20>| Let me help you carry your bag. |<10>| Here's your bag. |<11>| Please feel free to entrust it to me!\\n\", 'Hello! |<20>|. Let me help you! |<20>| Here is your glass of water. |<11>|. Have a great party!\\n', 'Okay! Let me help you throw this bottle in the trash can. |<10>| *throw bottle* |<12>|. Remember to keep the public spaces clean! |<20>|\\n']\n"
     ]
    }
   ],
   "source": [
    "print(english[10:])"
   ]
  },
  {
   "cell_type": "code",
   "execution_count": null,
   "metadata": {},
   "outputs": [],
   "source": [
    "\n",
    "\n",
    "# Prepare your data\n",
    "conversations = []\n",
    "\n",
    "# Example: Load audio files and create conversations\n",
    "for audio_file, prompt, response in your_data_source:\n",
    "    # Read and encode audio file to base64\n",
    "    audio_data, _ = sf.read(audio_file)\n",
    "    buffer = io.BytesIO()\n",
    "    sf.write(buffer, audio_data, 16000, format='wav')\n",
    "    buffer.seek(0)\n",
    "    audio_base64 = base64.b64encode(buffer.read()).decode('utf-8')\n",
    "    \n",
    "    # Create a conversation entry\n",
    "    conversation = {\n",
    "        \"conversations\": [\n",
    "            {\n",
    "                \"role\": \"user\",\n",
    "                \"content\": [\n",
    "                    {\"type\": \"text\", \"text\": prompt},\n",
    "                    {\"type\": \"audio\", \"audio\": audio_base64}\n",
    "                ]\n",
    "            },\n",
    "            {\n",
    "                \"role\": \"assistant\", \n",
    "                \"content\": [\n",
    "                    {\"type\": \"text\", \"text\": response}\n",
    "                ]\n",
    "            }\n",
    "        ]\n",
    "    }\n",
    "    conversations.append(conversation)\n",
    "\n",
    "# Create a Hugging Face dataset\n",
    "dataset = Dataset.from_list(conversations)\n",
    "\n",
    "# Save locally or push to Hugging Face Hub\n",
    "dataset.save_to_disk(\"your_dataset_path\")\n",
    "# Or: dataset.push_to_hub(\"your-username/dataset-name\")"
   ]
  },
  {
   "cell_type": "code",
   "execution_count": 4,
   "metadata": {},
   "outputs": [],
   "source": [
    "#import Audio\n",
    "from datasets import load_dataset\n",
    "import base64\n",
    "import io\n",
    "import soundfile as sf\n",
    "import numpy as np\n",
    "from datasets.features.features import Audio"
   ]
  },
  {
   "cell_type": "code",
   "execution_count": null,
   "metadata": {},
   "outputs": [
    {
     "data": {
      "text/plain": [
       "{'path': 'audio/300.wav',\n",
       " 'array': array([0.        , 0.        , 0.        , ..., 0.00601196, 0.00933838,\n",
       "        0.01446533]),\n",
       " 'sampling_rate': 48000}"
      ]
     },
     "execution_count": 5,
     "metadata": {},
     "output_type": "execute_result"
    }
   ],
   "source": [
    "audio_dataset = Dataset.from_dict({\"audio\": [\"audio/300.wav\", \"audio/301.wav\", \"audio/302.wav\"], 'text'}).cast_column(\"audio\", Audio())\n",
    "audio_dataset[0][\"audio\"]"
   ]
  },
  {
   "cell_type": "code",
   "execution_count": 6,
   "metadata": {},
   "outputs": [
    {
     "data": {
      "text/plain": [
       "Dataset({\n",
       "    features: ['audio'],\n",
       "    num_rows: 3\n",
       "})"
      ]
     },
     "execution_count": 6,
     "metadata": {},
     "output_type": "execute_result"
    }
   ],
   "source": [
    "audio_dataset"
   ]
  },
  {
   "cell_type": "code",
   "execution_count": null,
   "metadata": {},
   "outputs": [],
   "source": []
  }
 ],
 "metadata": {
  "kernelspec": {
   "display_name": "hoang",
   "language": "python",
   "name": "python3"
  },
  "language_info": {
   "codemirror_mode": {
    "name": "ipython",
    "version": 3
   },
   "file_extension": ".py",
   "mimetype": "text/x-python",
   "name": "python",
   "nbconvert_exporter": "python",
   "pygments_lexer": "ipython3",
   "version": "3.10.16"
  }
 },
 "nbformat": 4,
 "nbformat_minor": 2
}
